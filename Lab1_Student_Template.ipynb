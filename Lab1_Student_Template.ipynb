{
 "cells": [
  {
   "cell_type": "markdown",
   "id": "82e146db",
   "metadata": {},
   "source": [
    "# AYTS 5001 - Lab 1 Template\n",
    "**Getting Started with Python**\n",
    "\n",
    "Fill in the code cells below as you work through the lab tasks."
   ]
  },
  {
   "cell_type": "markdown",
   "id": "77367188",
   "metadata": {},
   "source": [
    "## 1. Environment Setup\n",
    "Run the cell below to confirm your environment works by printing out \"Hello, world!\":"
   ]
  },
  {
   "cell_type": "code",
   "execution_count": 2,
   "id": "22c707df",
   "metadata": {},
   "outputs": [
    {
     "data": {
      "text/plain": [
       "'Hello, world!'"
      ]
     },
     "execution_count": 2,
     "metadata": {},
     "output_type": "execute_result"
    }
   ],
   "source": [
    "\"Hello, world!\"\n"
   ]
  },
  {
   "cell_type": "markdown",
   "id": "43cb7a5d",
   "metadata": {},
   "source": [
    "## 2. Variables and Data Types\n",
    "Create and print variables with different data types."
   ]
  },
  {
   "cell_type": "code",
   "execution_count": 3,
   "id": "bbb49404",
   "metadata": {},
   "outputs": [
    {
     "name": "stdin",
     "output_type": "stream",
     "text": [
      "Enter your name: Rob\n"
     ]
    }
   ],
   "source": [
    "name = input(\"Enter your name:\")"
   ]
  },
  {
   "cell_type": "markdown",
   "id": "51edfac6",
   "metadata": {},
   "source": [
    "## 3. Input and Output\n",
    "Use input() and print() to interact with the user."
   ]
  },
  {
   "cell_type": "code",
   "execution_count": 6,
   "id": "fdfbea71",
   "metadata": {},
   "outputs": [
    {
     "name": "stdin",
     "output_type": "stream",
     "text": [
      "Enter your age: 21\n"
     ]
    },
    {
     "name": "stdout",
     "output_type": "stream",
     "text": [
      "Your age is  21\n"
     ]
    }
   ],
   "source": [
    "age = input(\"Enter your age:\")\n",
    "print(\"Your age is \", age)"
   ]
  },
  {
   "cell_type": "markdown",
   "id": "a5916c24",
   "metadata": {},
   "source": [
    "## 4. Expressions and Calculations\n",
    "Write a program that calculates the area and perimeter of a rectangle."
   ]
  },
  {
   "cell_type": "code",
   "execution_count": 14,
   "id": "6a27b529",
   "metadata": {},
   "outputs": [
    {
     "name": "stdout",
     "output_type": "stream",
     "text": [
      "the area of rectangle is 50\n",
      "the perimeter of rectangle is 30\n",
      "the perimeter of rectangle is 30\n"
     ]
    }
   ],
   "source": [
    "length = 10\n",
    "height = 5\n",
    "\n",
    "print(f\"the area of rectangle is {length * height}\")\n",
    "print(f\"the perimeter of rectangle is {length + length + height + height}\")\n",
    "print(f\"the perimeter of rectangle is {length * 2 + height * 2}\")"
   ]
  },
  {
   "cell_type": "markdown",
   "id": "b1452e25",
   "metadata": {},
   "source": [
    "## 5. Git Basics\n",
    "(Write down Git commands you used or plan to use.)"
   ]
  },
  {
   "cell_type": "code",
   "execution_count": null,
   "id": "5ed8bb2e",
   "metadata": {},
   "outputs": [],
   "source": [
    "# This section can include shell commands or notes\n",
    "# Basic Git Commands\n",
    "# Initialize a new Git repository\n",
    "# git add <filename>     # Add specific file"
   ]
  },
  {
   "cell_type": "markdown",
   "id": "b152a45d",
   "metadata": {},
   "source": [
    "## 6. Extension Challenge: BMI Calculator\n",
    "(Optional) Write a program to calculate and print the BMI."
   ]
  },
  {
   "cell_type": "code",
   "execution_count": 24,
   "id": "e215a357",
   "metadata": {},
   "outputs": [
    {
     "name": "stdin",
     "output_type": "stream",
     "text": [
      "Enter your weight: 80\n",
      "Enter your height: 1.8\n"
     ]
    },
    {
     "name": "stdout",
     "output_type": "stream",
     "text": [
      "Your weight is  80\n",
      "Your height is  1.8\n",
      "your bmi is 24.691358024691358\n"
     ]
    }
   ],
   "source": [
    "# Your code here\n",
    "\n",
    "weight = input(\"Enter your weight:\")\n",
    "height = input(\"Enter your height:\")\n",
    "print(\"Your weight is \", weight)\n",
    "print(\"Your height is \", height)\n",
    "\n",
    "weight = float(weight)\n",
    "height = float(height)\n",
    "\n",
    "height2 = height * height\n",
    "\n",
    "print(f\"your bmi is {weight/height2}\")\n"
   ]
  },
  {
   "cell_type": "code",
   "execution_count": null,
   "id": "72a44046-cf96-4afa-b415-7d054f570174",
   "metadata": {},
   "outputs": [],
   "source": []
  }
 ],
 "metadata": {
  "kernelspec": {
   "display_name": "Python [conda env:base] *",
   "language": "python",
   "name": "conda-base-py"
  },
  "language_info": {
   "codemirror_mode": {
    "name": "ipython",
    "version": 3
   },
   "file_extension": ".py",
   "mimetype": "text/x-python",
   "name": "python",
   "nbconvert_exporter": "python",
   "pygments_lexer": "ipython3",
   "version": "3.13.5"
  }
 },
 "nbformat": 4,
 "nbformat_minor": 5
}
