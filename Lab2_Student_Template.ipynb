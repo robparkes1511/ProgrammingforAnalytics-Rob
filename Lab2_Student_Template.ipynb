{
 "cells": [
  {
   "cell_type": "markdown",
   "id": "b3e6329e",
   "metadata": {},
   "source": [
    "# Lab 2: Control Structures and Functions\n",
    "AYTS5001 - Programming for Analytics"
   ]
  },
  {
   "cell_type": "markdown",
   "id": "a147fd29",
   "metadata": {},
   "source": [
    "## Task 1: Even or Odd Number Checker"
   ]
  },
  {
   "cell_type": "code",
   "execution_count": 3,
   "id": "3bf2868b",
   "metadata": {},
   "outputs": [
    {
     "name": "stdin",
     "output_type": "stream",
     "text": [
      "Enter a number: 3\n"
     ]
    },
    {
     "name": "stdout",
     "output_type": "stream",
     "text": [
      "This is an odd number.\n"
     ]
    }
   ],
   "source": [
    "number = input(\"Enter a number:\")\n",
    "\n",
    "number = int(number)\n",
    "\n",
    "if number % 2 == 1:\n",
    "    print (\"This is an odd number.\")\n",
    "else:\n",
    "    print (\"This is an even number.\")"
   ]
  },
  {
   "cell_type": "markdown",
   "id": "06cc0422",
   "metadata": {},
   "source": [
    "## Task 2: Multiples of 3"
   ]
  },
  {
   "cell_type": "code",
   "execution_count": 5,
   "id": "79828c1c",
   "metadata": {},
   "outputs": [
    {
     "name": "stdout",
     "output_type": "stream",
     "text": [
      "numbers from 1 to 50 that are divisible by 3:\n",
      "3\n",
      "6\n",
      "9\n",
      "12\n",
      "15\n",
      "18\n",
      "21\n",
      "24\n",
      "27\n",
      "30\n",
      "33\n",
      "36\n",
      "39\n",
      "42\n",
      "45\n",
      "48\n"
     ]
    }
   ],
   "source": [
    "print(\"numbers from 1 to 50 that are divisible by 3:\")\n",
    "\n",
    "for number in range(1, 51):\n",
    "    if number % 3 == 0:\n",
    "        print(number)"
   ]
  },
  {
   "cell_type": "markdown",
   "id": "6430dd4f",
   "metadata": {},
   "source": [
    "## Task 3: Password Strength Checker"
   ]
  },
  {
   "cell_type": "code",
   "execution_count": 15,
   "id": "b7a00267",
   "metadata": {},
   "outputs": [
    {
     "name": "stdin",
     "output_type": "stream",
     "text": [
      "Please enter a password:  Pass1!\n"
     ]
    },
    {
     "name": "stdout",
     "output_type": "stream",
     "text": [
      "Invalid Password - must have at least 8 characters.\n"
     ]
    }
   ],
   "source": [
    "def password_check(password):\n",
    "    valid = True\n",
    "\n",
    "    if len(password) < 8:\n",
    "        print(\"Invalid Password - must have at least 8 characters.\")\n",
    "        valid = False\n",
    "    \n",
    "    if not any(char.isdigit() for char in password):\n",
    "        print(\"Invalid Password - must have at least 1 digit.\")\n",
    "        valid = False\n",
    "\n",
    "    special_chars = \"!@#$%&*\"\n",
    "    if not any(char in special_chars for char in password):\n",
    "        print(\"Invalid Password - must have at least 1 special character.\")\n",
    "        valid = False\n",
    "    \n",
    "    if valid:\n",
    "        print(\"Valid Password\")\n",
    "\n",
    "user_password = input(\"Please enter a password: \")\n",
    "password_check(user_password)"
   ]
  },
  {
   "cell_type": "markdown",
   "id": "ff49a53b",
   "metadata": {},
   "source": [
    "## Task 4: FizzBuzz"
   ]
  },
  {
   "cell_type": "code",
   "execution_count": 19,
   "id": "c43f838c",
   "metadata": {},
   "outputs": [
    {
     "name": "stdout",
     "output_type": "stream",
     "text": [
      "numbers from 1 to 50 that are divisible by 3 or 5 or both:\n",
      "3: Fizz\n",
      "5: Buzz\n",
      "6: Fizz\n",
      "9: Fizz\n",
      "10: Buzz\n",
      "12: Fizz\n",
      "15: FizzBuzz\n",
      "18: Fizz\n",
      "20: Buzz\n",
      "21: Fizz\n",
      "24: Fizz\n",
      "25: Buzz\n",
      "27: Fizz\n",
      "30: FizzBuzz\n",
      "33: Fizz\n",
      "35: Buzz\n",
      "36: Fizz\n",
      "39: Fizz\n",
      "40: Buzz\n",
      "42: Fizz\n",
      "45: FizzBuzz\n",
      "48: Fizz\n",
      "50: Buzz\n"
     ]
    }
   ],
   "source": [
    "print(\"numbers from 1 to 50 that are divisible by 3 or 5 or both:\")\n",
    "\n",
    "for number in range(1, 51):\n",
    "    if number % 3 == 0 and number % 5 == 0:\n",
    "        print(f\"{number}: FizzBuzz\")\n",
    "    elif number % 3 == 0:\n",
    "        print(f\"{number}: Fizz\")\n",
    "    elif number % 5 == 0:\n",
    "        print(f\"{number}: Buzz\")"
   ]
  },
  {
   "cell_type": "markdown",
   "id": "a9f5792b",
   "metadata": {},
   "source": [
    "## Task 5: Temperature Conversion Table"
   ]
  },
  {
   "cell_type": "code",
   "execution_count": 31,
   "id": "b4dfb707",
   "metadata": {},
   "outputs": [
    {
     "name": "stdin",
     "output_type": "stream",
     "text": [
      "enter start temperature in celsius:  12\n",
      "enter end temperature in celsius:  24\n"
     ]
    },
    {
     "name": "stdout",
     "output_type": "stream",
     "text": [
      "12 = 53.6\n",
      "13 = 55.4\n",
      "14 = 57.2\n",
      "15 = 59.0\n",
      "16 = 60.8\n",
      "17 = 62.6\n",
      "18 = 64.4\n",
      "19 = 66.2\n",
      "20 = 68.0\n",
      "21 = 69.8\n",
      "22 = 71.6\n",
      "23 = 73.4\n",
      "24 = 75.2\n"
     ]
    }
   ],
   "source": [
    "def celsius_to_fahrenheit(start_celsius, end_celsius):\n",
    "    for celsius in range(start_celsius, end_celsius + 1):\n",
    "        fahrenheit = (celsius * 9/5) + 32\n",
    "        print(f\"{celsius} = {fahrenheit}\")\n",
    "\n",
    "start_temp = int(input(\"enter start temperature in celsius: \"))\n",
    "end_temp = int(input(\"enter end temperature in celsius: \"))\n",
    "\n",
    "celsius_to_fahrenheit(start_temp, end_temp)"
   ]
  },
  {
   "cell_type": "markdown",
   "id": "16e39932",
   "metadata": {},
   "source": [
    "## Task 6: Factorial with Input Validation"
   ]
  },
  {
   "cell_type": "code",
   "execution_count": 38,
   "id": "9b8ce5e9",
   "metadata": {},
   "outputs": [
    {
     "name": "stdin",
     "output_type": "stream",
     "text": [
      "Enter a number: 4\n"
     ]
    },
    {
     "name": "stdout",
     "output_type": "stream",
     "text": [
      "The factorial of your number is 24\n"
     ]
    }
   ],
   "source": [
    "def calculate_factorial(n):\n",
    "    if n < 0:\n",
    "        print(\"Error\")\n",
    "        return None\n",
    "    \n",
    "    factorial = 1\n",
    "    for i in range(1, n + 1):\n",
    "        factorial *= i\n",
    "    \n",
    "    return factorial\n",
    "\n",
    "number = input(\"Enter a number:\")\n",
    "\n",
    "try:\n",
    "    number = int(number)\n",
    "\n",
    "    result = calculate_factorial(number)\n",
    "    \n",
    "    if result is not None:\n",
    "        print(f\"The factorial of your number is {result}\")\n",
    "\n",
    "except ValueError:\n",
    "    print(\"Error\")"
   ]
  },
  {
   "cell_type": "markdown",
   "id": "eea49219",
   "metadata": {},
   "source": [
    "## Task 7: Prime Number Checker"
   ]
  },
  {
   "cell_type": "code",
   "execution_count": 41,
   "id": "46daff6a",
   "metadata": {},
   "outputs": [
    {
     "name": "stdin",
     "output_type": "stream",
     "text": [
      "Enter a number:  6\n"
     ]
    },
    {
     "name": "stdout",
     "output_type": "stream",
     "text": [
      "6 is not a prime number\n"
     ]
    }
   ],
   "source": [
    "def prime_number(number):\n",
    "    if number <= 1:\n",
    "        return False\n",
    "    \n",
    "    for i in range(2, number):\n",
    "        if number % i == 0:\n",
    "            return False\n",
    "    \n",
    "    return True\n",
    "\n",
    "number = int(input(\"Enter a number: \"))\n",
    "\n",
    "if prime_number(number):\n",
    "    print(f\"{number} is a prime number\")\n",
    "else:\n",
    "    print(f\"{number} is not a prime number\")"
   ]
  },
  {
   "cell_type": "code",
   "execution_count": null,
   "id": "6c536ced-434e-426d-a920-3b27b48b42be",
   "metadata": {},
   "outputs": [],
   "source": []
  }
 ],
 "metadata": {
  "kernelspec": {
   "display_name": "Python [conda env:base] *",
   "language": "python",
   "name": "conda-base-py"
  },
  "language_info": {
   "codemirror_mode": {
    "name": "ipython",
    "version": 3
   },
   "file_extension": ".py",
   "mimetype": "text/x-python",
   "name": "python",
   "nbconvert_exporter": "python",
   "pygments_lexer": "ipython3",
   "version": "3.13.5"
  }
 },
 "nbformat": 4,
 "nbformat_minor": 5
}
